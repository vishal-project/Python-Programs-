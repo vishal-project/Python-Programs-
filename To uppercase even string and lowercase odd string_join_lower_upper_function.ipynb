{
 "cells": [
  {
   "cell_type": "code",
   "execution_count": 1,
   "metadata": {},
   "outputs": [
    {
     "name": "stdout",
     "output_type": "stream",
     "text": [
      "OrThOdOx\n"
     ]
    }
   ],
   "source": [
    "# to uppercase even string and lowercase odd string.\n",
    "\n",
    "def myfunc(str):\n",
    "    i=0\n",
    "    l=[]\n",
    "    for item in str:\n",
    "        \n",
    "        if (i%2==0):\n",
    "            \n",
    "            a=item.upper()\n",
    "            l.append(a)\n",
    "            \n",
    "        else:\n",
    "            \n",
    "            b=item.lower()\n",
    "            l.append(b)\n",
    "        i=i+1\n",
    "    return \"\".join(l)\n",
    "    \n",
    "print(myfunc('Orthodox'))"
   ]
  },
  {
   "cell_type": "code",
   "execution_count": null,
   "metadata": {},
   "outputs": [],
   "source": []
  }
 ],
 "metadata": {
  "kernelspec": {
   "display_name": "Python 3",
   "language": "python",
   "name": "python3"
  },
  "language_info": {
   "codemirror_mode": {
    "name": "ipython",
    "version": 3
   },
   "file_extension": ".py",
   "mimetype": "text/x-python",
   "name": "python",
   "nbconvert_exporter": "python",
   "pygments_lexer": "ipython3",
   "version": "3.8.5"
  }
 },
 "nbformat": 4,
 "nbformat_minor": 4
}
