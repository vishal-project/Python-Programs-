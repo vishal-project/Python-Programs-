{
 "cells": [
  {
   "cell_type": "code",
   "execution_count": 1,
   "metadata": {},
   "outputs": [],
   "source": [
    "# UPDATING A CURRENT LIST AT A POSITION ASKED BY USER !  \n",
    "\n",
    "\n",
    "game_list=[0,1,2]"
   ]
  },
  {
   "cell_type": "code",
   "execution_count": 2,
   "metadata": {},
   "outputs": [],
   "source": [
    "def display_game(game_list):\n",
    "    print(\"Here is the current list: \")\n",
    "    print(game_list)\n",
    "    "
   ]
  },
  {
   "cell_type": "code",
   "execution_count": 3,
   "metadata": {},
   "outputs": [
    {
     "name": "stdout",
     "output_type": "stream",
     "text": [
      "Here is the current list: \n",
      "[0, 1, 2]\n"
     ]
    }
   ],
   "source": [
    "display_game(game_list)"
   ]
  },
  {
   "cell_type": "code",
   "execution_count": 43,
   "metadata": {},
   "outputs": [],
   "source": [
    "def position_choice():\n",
    "    choice='wrong'\n",
    "    acceptable_range=range(0,3)  # allows values from o to 2 \n",
    "    within_range=False\n",
    "    \n",
    "    while choice.isdigit()==False or within_range==False:\n",
    "        choice=input(\"Pick a position (0,1,2) \")\n",
    "        \n",
    "        if choice.isdigit()==False:\n",
    "            print(\"Sorry ! invalid choice ! \")\n",
    "        \n",
    "        \n",
    "        if choice.isdigit()==True:\n",
    "            if int(choice) in acceptable_range:\n",
    "                within_range=True\n",
    "                \n",
    "                \n",
    "            else:\n",
    "                print(\"Sorry ! invalid choice ! \")\n",
    "        \n",
    "                within_range=False\n",
    "                \n",
    "    return int(choice)\n",
    "                \n",
    "                "
   ]
  },
  {
   "cell_type": "code",
   "execution_count": 44,
   "metadata": {},
   "outputs": [
    {
     "name": "stdout",
     "output_type": "stream",
     "text": [
      "Pick a position (0,1,2) hygyhfv\n",
      "Sorry ! invalid choice ! \n",
      "Pick a position (0,1,2) 3\n",
      "Sorry ! invalid choice ! \n",
      "Pick a position (0,1,2) 2\n"
     ]
    },
    {
     "data": {
      "text/plain": [
       "2"
      ]
     },
     "execution_count": 44,
     "metadata": {},
     "output_type": "execute_result"
    }
   ],
   "source": [
    "position_choice()"
   ]
  },
  {
   "cell_type": "code",
   "execution_count": 45,
   "metadata": {},
   "outputs": [],
   "source": [
    "# ALTERNATIVE SHORTCUT OF ABOVE FUNCTION BUT ABOVE FUNCTION IS MORE CUSTOMISED AS FAR AS LARGE RANGE OF INPUT IS CONCERNED !\n",
    "\n",
    "def position_choice():\n",
    "    choice=\"wrong\"\n",
    "    \n",
    "    while choice not in ['0','1','2']:\n",
    "         choice=input(\"Pick a position (0,1,2) \")\n",
    "            \n",
    "         if choice not in ['0','1','2']:\n",
    "             print(\"Sorry ! invalid choice ! \")\n",
    "            \n",
    "    return int(choice)\n",
    "            \n",
    "\n",
    "    \n",
    "            \n",
    "        "
   ]
  },
  {
   "cell_type": "code",
   "execution_count": 46,
   "metadata": {},
   "outputs": [
    {
     "name": "stdout",
     "output_type": "stream",
     "text": [
      "Pick a position (0,1,2) HJN\n",
      "Sorry ! invalid choice ! \n",
      "Pick a position (0,1,2) 5\n",
      "Sorry ! invalid choice ! \n",
      "Pick a position (0,1,2) 4\n",
      "Sorry ! invalid choice ! \n",
      "Pick a position (0,1,2) 2\n"
     ]
    },
    {
     "data": {
      "text/plain": [
       "2"
      ]
     },
     "execution_count": 46,
     "metadata": {},
     "output_type": "execute_result"
    }
   ],
   "source": [
    "# position_choice()"
   ]
  },
  {
   "cell_type": "code",
   "execution_count": 47,
   "metadata": {},
   "outputs": [],
   "source": [
    "def replacement_choice(game_list,position):\n",
    "    \n",
    "    user_placement=input(\"Type a string to place at position: \")\n",
    "    \n",
    "    game_list[position]=user_placement\n",
    "    \n",
    "    return game_list"
   ]
  },
  {
   "cell_type": "code",
   "execution_count": 48,
   "metadata": {},
   "outputs": [
    {
     "name": "stdout",
     "output_type": "stream",
     "text": [
      "Type a string to place at position: vishal\n"
     ]
    },
    {
     "data": {
      "text/plain": [
       "[0, 1, 'vishal']"
      ]
     },
     "execution_count": 48,
     "metadata": {},
     "output_type": "execute_result"
    }
   ],
   "source": [
    "replacement_choice(game_list,2)"
   ]
  },
  {
   "cell_type": "code",
   "execution_count": 53,
   "metadata": {},
   "outputs": [],
   "source": [
    "def gameon_choice():\n",
    "    choice=\"wrong\"\n",
    "    \n",
    "    while choice not in ['Y','N']:\n",
    "         choice=input(\"Keep Playing? (Y or N):  \")\n",
    "            \n",
    "         if choice not in ['Y','N']:\n",
    "             print(\"Sorry ! I don't understand, plz choice Y or N \")\n",
    "                \n",
    "    if choice=='Y':\n",
    "        return True\n",
    "    else:\n",
    "        return False\n",
    "            \n",
    "    \n",
    "            "
   ]
  },
  {
   "cell_type": "code",
   "execution_count": 54,
   "metadata": {},
   "outputs": [
    {
     "name": "stdout",
     "output_type": "stream",
     "text": [
      "Keep Playing? (Y or N):  y\n",
      "Sorry ! I don't understand, plz choice Y or N \n",
      "Keep Playing? (Y or N):  n\n",
      "Sorry ! I don't understand, plz choice Y or N \n",
      "Keep Playing? (Y or N):  N\n"
     ]
    },
    {
     "data": {
      "text/plain": [
       "False"
      ]
     },
     "execution_count": 54,
     "metadata": {},
     "output_type": "execute_result"
    }
   ],
   "source": [
    "gameon_choice()"
   ]
  },
  {
   "cell_type": "code",
   "execution_count": 64,
   "metadata": {},
   "outputs": [
    {
     "name": "stdout",
     "output_type": "stream",
     "text": [
      "Here is the current list: \n",
      "[0, 1, 2]\n",
      "Pick a position (0,1,2) 1\n",
      "Type a string to place at position: vishal\n",
      "Here is the current list: \n",
      "[0, 'vishal', 2]\n",
      "Keep Playing? (Y or N):  g\n",
      "Sorry ! I don't understand, plz choice Y or N \n",
      "Keep Playing? (Y or N):  y\n",
      "Sorry ! I don't understand, plz choice Y or N \n",
      "Keep Playing? (Y or N):  Y\n",
      "Here is the current list: \n",
      "[0, 'vishal', 2]\n",
      "Pick a position (0,1,2) 0\n",
      "Type a string to place at position: hj\n",
      "Here is the current list: \n",
      "['hj', 'vishal', 2]\n",
      "Keep Playing? (Y or N):  N\n"
     ]
    }
   ],
   "source": [
    "game_on=True\n",
    "game_list=[0,1,2]\n",
    "\n",
    "while game_on==True:   # or while game_on:\n",
    "    \n",
    "    display_game(game_list)\n",
    "    position=position_choice()\n",
    "    game_list=replacement_choice(game_list,position)\n",
    "    display_game(game_list)\n",
    "    game_on=gameon_choice()\n",
    "    \n",
    "        \n",
    "    \n"
   ]
  },
  {
   "cell_type": "code",
   "execution_count": null,
   "metadata": {},
   "outputs": [],
   "source": []
  }
 ],
 "metadata": {
  "kernelspec": {
   "display_name": "Python 3",
   "language": "python",
   "name": "python3"
  },
  "language_info": {
   "codemirror_mode": {
    "name": "ipython",
    "version": 3
   },
   "file_extension": ".py",
   "mimetype": "text/x-python",
   "name": "python",
   "nbconvert_exporter": "python",
   "pygments_lexer": "ipython3",
   "version": "3.8.5"
  }
 },
 "nbformat": 4,
 "nbformat_minor": 4
}
