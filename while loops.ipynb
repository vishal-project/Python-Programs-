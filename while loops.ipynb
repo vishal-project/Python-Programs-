{
 "cells": [
  {
   "cell_type": "code",
   "execution_count": 1,
   "metadata": {
    "scrolled": false
   },
   "outputs": [
    {
     "name": "stdout",
     "output_type": "stream",
     "text": [
      "the value of item is 0\n",
      "the value of item is 1\n",
      "the value of item is 2\n",
      "the value of item is 3\n",
      "the value of item is 4\n"
     ]
    }
   ],
   "source": [
    "x=0\n",
    "\n",
    "while x<5:\n",
    "    print(f\"the value of item is {x}\")\n",
    "    x=x+1\n",
    "    "
   ]
  },
  {
   "cell_type": "code",
   "execution_count": 2,
   "metadata": {},
   "outputs": [
    {
     "name": "stdout",
     "output_type": "stream",
     "text": [
      "the value of item is 0\n",
      "the value of item is 1\n",
      "the value of item is 2\n",
      "the value of item is 3\n",
      "the value of item is 4\n",
      "NOW THE VALLUE IS NOT LESS THAN 5\n"
     ]
    }
   ],
   "source": [
    "x=0\n",
    "\n",
    "while x<5:\n",
    "    print(f\"the value of item is {x}\")\n",
    "    x=x+1\n",
    "else:\n",
    "    print(\"NOW THE VALLUE IS NOT LESS THAN 5\")  # executes when while condition becomes false ! at x=5 "
   ]
  },
  {
   "cell_type": "code",
   "execution_count": 3,
   "metadata": {},
   "outputs": [
    {
     "name": "stdout",
     "output_type": "stream",
     "text": [
      "NOW THE VALLUE IS NOT LESS THAN 5\n"
     ]
    }
   ],
   "source": [
    "x=50\n",
    "\n",
    "while x<5:\n",
    "    print(f\"the value of item is {x}\")\n",
    "    x=x+1\n",
    "else:\n",
    "    print(\"NOW THE VALLUE IS NOT LESS THAN 5\")  # executes when while condition becomes false ! at x=5 "
   ]
  },
  {
   "cell_type": "markdown",
   "metadata": {},
   "source": [
    "# break, continue, pass\n",
    "\n",
    "We can use break, continue, and pass statements in our loops to add additional functionality for various cases. The three statements are defined by:\n",
    "\n",
    "break: Breaks out of the current closest enclosing loop.\n",
    "continue: Goes to the top of the closest enclosing loop.\n",
    "pass: Does nothing at all.\n"
   ]
  },
  {
   "cell_type": "code",
   "execution_count": 4,
   "metadata": {},
   "outputs": [
    {
     "ename": "SyntaxError",
     "evalue": "unexpected EOF while parsing (<ipython-input-4-674ae3ac2625>, line 4)",
     "output_type": "error",
     "traceback": [
      "\u001b[1;36m  File \u001b[1;32m\"<ipython-input-4-674ae3ac2625>\"\u001b[1;36m, line \u001b[1;32m4\u001b[0m\n\u001b[1;33m    #comment\u001b[0m\n\u001b[1;37m            ^\u001b[0m\n\u001b[1;31mSyntaxError\u001b[0m\u001b[1;31m:\u001b[0m unexpected EOF while parsing\n"
     ]
    }
   ],
   "source": [
    "x=[1,2,3]\n",
    "\n",
    "for item in x:\n",
    "    #comment"
   ]
  },
  {
   "cell_type": "code",
   "execution_count": 7,
   "metadata": {},
   "outputs": [
    {
     "name": "stdout",
     "output_type": "stream",
     "text": [
      "end of my script\n"
     ]
    }
   ],
   "source": [
    "x=[1,2,3]\n",
    "\n",
    "for item in x:  \n",
    "    pass                 # pass: Does nothing at all and avoids \"unexpected EOF(end of ) while parsing error\". \n",
    "print(\"end of my script\") # Actually used by coders when they don't need to put anything in loop right now, they wanna put later.\n"
   ]
  },
  {
   "cell_type": "code",
   "execution_count": 8,
   "metadata": {},
   "outputs": [
    {
     "name": "stdout",
     "output_type": "stream",
     "text": [
      "v\n",
      "i\n",
      "s\n",
      "h\n",
      "a\n",
      "l\n"
     ]
    }
   ],
   "source": [
    "name=\"vishal\"\n",
    "for letter in name:\n",
    "    print(letter)"
   ]
  },
  {
   "cell_type": "code",
   "execution_count": 12,
   "metadata": {},
   "outputs": [
    {
     "name": "stdout",
     "output_type": "stream",
     "text": [
      "v\n",
      "i\n",
      "s\n",
      "h\n",
      "l\n"
     ]
    }
   ],
   "source": [
    "#suppose we dont wanna print letter a \n",
    "\n",
    "name=\"vishal\"\n",
    "for letter in name:\n",
    "    if letter=='a':\n",
    "        continue                 # continue: Goes to the top of the closest enclosing loop i.e. in second line of this code.\n",
    "    print(letter)"
   ]
  },
  {
   "cell_type": "code",
   "execution_count": 14,
   "metadata": {},
   "outputs": [
    {
     "name": "stdout",
     "output_type": "stream",
     "text": [
      "v\n",
      "i\n",
      "s\n",
      "h\n"
     ]
    }
   ],
   "source": [
    "name=\"vishal\"\n",
    "for letter in name:\n",
    "    if letter=='a':\n",
    "        break                  # break: Breaks out of the current closest enclosing loop, as ,letter=a for loop stops ! \n",
    "    print(letter) "
   ]
  },
  {
   "cell_type": "code",
   "execution_count": 15,
   "metadata": {},
   "outputs": [
    {
     "name": "stdout",
     "output_type": "stream",
     "text": [
      "the value of item is 0\n",
      "the value of item is 1\n",
      "the value of item is 2\n",
      "the value of item is 3\n",
      "the value of item is 4\n"
     ]
    }
   ],
   "source": [
    "x=0\n",
    "\n",
    "while x<5:\n",
    "    print(f\"the value of item is {x}\")\n",
    "    x=x+1"
   ]
  },
  {
   "cell_type": "code",
   "execution_count": 16,
   "metadata": {},
   "outputs": [
    {
     "name": "stdout",
     "output_type": "stream",
     "text": [
      "the value of item is 0\n",
      "the value of item is 1\n",
      "the value of item is 2\n"
     ]
    }
   ],
   "source": [
    "# if we wanna print only 3 o/p  instead of 5 here \n",
    "\n",
    "x=0\n",
    "\n",
    "while x<5:\n",
    "    if x==3:\n",
    "        break\n",
    "    print(f\"the value of item is {x}\")\n",
    "    x=x+1"
   ]
  },
  {
   "cell_type": "code",
   "execution_count": null,
   "metadata": {},
   "outputs": [],
   "source": []
  }
 ],
 "metadata": {
  "kernelspec": {
   "display_name": "Python 3",
   "language": "python",
   "name": "python3"
  },
  "language_info": {
   "codemirror_mode": {
    "name": "ipython",
    "version": 3
   },
   "file_extension": ".py",
   "mimetype": "text/x-python",
   "name": "python",
   "nbconvert_exporter": "python",
   "pygments_lexer": "ipython3",
   "version": "3.8.5"
  }
 },
 "nbformat": 4,
 "nbformat_minor": 4
}
