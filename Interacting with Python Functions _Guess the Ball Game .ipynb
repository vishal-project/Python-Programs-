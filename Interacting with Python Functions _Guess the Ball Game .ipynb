{
 "cells": [
  {
   "cell_type": "code",
   "execution_count": 19,
   "metadata": {},
   "outputs": [
    {
     "name": "stdout",
     "output_type": "stream",
     "text": [
      "Pick ball position no.- 1 / 2 /3:  2\n",
      "correct guess\n",
      "['', 'O', '']\n"
     ]
    }
   ],
   "source": [
    "my_list=['','O','']\n",
    "from random import shuffle\n",
    "\n",
    "\n",
    "def user_guess():\n",
    "    guess=''\n",
    "    while guess not in ['1','2','3']:\n",
    "        guess=input(\"Pick ball position no.- 1 / 2 /3:  \")\n",
    "    return int(guess)\n",
    "\n",
    "def shuffle_list():\n",
    "    shuffle(my_list)\n",
    "    return my_list\n",
    "\n",
    "def check_guess(gussed_index,mixedup_list):  # using variables of other funcitions as required arguments.\n",
    "    if mixedup_list[gussed_index-1]=='O':\n",
    "        print(\"correct guess\")\n",
    "    else:\n",
    "         print(\"incorrect guess\")\n",
    "    \n",
    "mixedup_list=shuffle_list()\n",
    "gussed_index=user_guess()\n",
    "check_guess(gussed_index,mixedup_list)\n",
    "print(mixedup_list)"
   ]
  },
  {
   "cell_type": "code",
   "execution_count": null,
   "metadata": {},
   "outputs": [],
   "source": []
  },
  {
   "cell_type": "code",
   "execution_count": null,
   "metadata": {},
   "outputs": [],
   "source": []
  }
 ],
 "metadata": {
  "kernelspec": {
   "display_name": "Python 3",
   "language": "python",
   "name": "python3"
  },
  "language_info": {
   "codemirror_mode": {
    "name": "ipython",
    "version": 3
   },
   "file_extension": ".py",
   "mimetype": "text/x-python",
   "name": "python",
   "nbconvert_exporter": "python",
   "pygments_lexer": "ipython3",
   "version": "3.8.5"
  }
 },
 "nbformat": 4,
 "nbformat_minor": 4
}
