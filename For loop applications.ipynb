{
 "cells": [
  {
   "cell_type": "code",
   "execution_count": 4,
   "metadata": {},
   "outputs": [
    {
     "name": "stdout",
     "output_type": "stream",
     "text": [
      "v\n",
      "i\n",
      "s\n",
      "h\n",
      "a\n",
      "l\n"
     ]
    }
   ],
   "source": [
    "word1=\"vishal\"\n",
    "\n",
    "for i in word1:     # i : variable name we choose to represent characters of word1 \n",
    "    print(i)"
   ]
  },
  {
   "cell_type": "code",
   "execution_count": 5,
   "metadata": {},
   "outputs": [
    {
     "name": "stdout",
     "output_type": "stream",
     "text": [
      "1\n",
      "2\n",
      "3\n",
      "4\n",
      "5\n",
      "6\n",
      "7\n",
      "8\n",
      "9\n",
      "10\n"
     ]
    }
   ],
   "source": [
    "mylist=[1,2,3,4,5,6,7,8,9,10]\n",
    "for num in mylist:   \n",
    "    print(num)"
   ]
  },
  {
   "cell_type": "code",
   "execution_count": 6,
   "metadata": {
    "scrolled": true
   },
   "outputs": [
    {
     "name": "stdout",
     "output_type": "stream",
     "text": [
      "hello\n",
      "hello\n",
      "hello\n",
      "hello\n",
      "hello\n",
      "hello\n",
      "hello\n",
      "hello\n",
      "hello\n",
      "hello\n"
     ]
    }
   ],
   "source": [
    "for num in mylist:   \n",
    "    print(\"hello\")"
   ]
  },
  {
   "cell_type": "code",
   "execution_count": 1,
   "metadata": {
    "scrolled": true
   },
   "outputs": [
    {
     "name": "stdout",
     "output_type": "stream",
     "text": [
      "1\n",
      "2\n",
      "3\n"
     ]
    }
   ],
   "source": [
    "tup=(1,2,3)   #tuple\n",
    "for jdh in tup:\n",
    "    print(jdh)"
   ]
  },
  {
   "cell_type": "code",
   "execution_count": 2,
   "metadata": {},
   "outputs": [
    {
     "name": "stdout",
     "output_type": "stream",
     "text": [
      "(1, 2)\n",
      "(3, 4)\n",
      "(5, 6)\n"
     ]
    }
   ],
   "source": [
    "mylist= [(1,2),(3,4),(5,6)]  # list contains tuples \n",
    "for item in mylist:\n",
    "    print(item)"
   ]
  },
  {
   "cell_type": "code",
   "execution_count": 3,
   "metadata": {},
   "outputs": [
    {
     "name": "stdout",
     "output_type": "stream",
     "text": [
      "1\n",
      "3\n",
      "5\n"
     ]
    }
   ],
   "source": [
    "mylist= [(1,2),(3,4),(5,6)]  # list contains tuples \n",
    "for a,b in mylist:           # tuple unpacking\n",
    "    print(a)        "
   ]
  },
  {
   "cell_type": "code",
   "execution_count": 4,
   "metadata": {},
   "outputs": [
    {
     "name": "stdout",
     "output_type": "stream",
     "text": [
      "k1\n",
      "k2\n",
      "k3\n"
     ]
    }
   ],
   "source": [
    "d={'k1':1,'k2':2,'k3':3}    #dictionary \n",
    "for item in d:\n",
    "    print(item)              # printing only keys "
   ]
  },
  {
   "cell_type": "code",
   "execution_count": 5,
   "metadata": {
    "scrolled": true
   },
   "outputs": [
    {
     "name": "stdout",
     "output_type": "stream",
     "text": [
      "('k1', 1)\n",
      "('k2', 2)\n",
      "('k3', 3)\n"
     ]
    }
   ],
   "source": [
    "d={'k1':1,'k2':2,'k3':3}    #dictionary \n",
    "for item in d.items():      # d.items() - used to prints key value pairs \n",
    "    print(item)"
   ]
  },
  {
   "cell_type": "code",
   "execution_count": 6,
   "metadata": {},
   "outputs": [
    {
     "name": "stdout",
     "output_type": "stream",
     "text": [
      "1\n",
      "2\n",
      "3\n"
     ]
    }
   ],
   "source": [
    "d={'k1':1,'k2':2,'k3':3}    #dictionary \n",
    "for key,value in d.items():      # d.items() -used to prints key value pairs \n",
    "    print(value)                # print all values only"
   ]
  },
  {
   "cell_type": "code",
   "execution_count": 7,
   "metadata": {},
   "outputs": [
    {
     "name": "stdout",
     "output_type": "stream",
     "text": [
      "1\n",
      "2\n",
      "3\n"
     ]
    }
   ],
   "source": [
    "d={'k1':1,'k2':2,'k3':3}    #dictionary \n",
    "for value in d.values():      # d.items() -used to prints key value pairs \n",
    "    print(value)                # print all values only"
   ]
  },
  {
   "cell_type": "code",
   "execution_count": 7,
   "metadata": {},
   "outputs": [
    {
     "name": "stdout",
     "output_type": "stream",
     "text": [
      "enter a no. to check prime or not: 6\n",
      "this is not a prime no.\n"
     ]
    }
   ],
   "source": [
    "n1=int(input(\"enter a no. to check prime or not: \"))\n",
    "if n1>1:\n",
    "    for i in range(2,n1):    #i=2 to n1-1                           \n",
    "        if n1%i==0:\n",
    "            print(\"this is not a prime no.\") \n",
    "            break \n",
    "            \n",
    "    else:\n",
    "        print(\"this is a prime no.\")\n",
    "else:\n",
    "    print(\"Invalid choice\")"
   ]
  },
  {
   "cell_type": "markdown",
   "metadata": {},
   "source": [
    "#AFTER REMOVING BREAK STATEMENT TO UNDERSTAND THE CONCEPT OF FOR ELSE BELOW , SEE CODE BELOW ! \n",
    "    #for else use-  else statement will only be executed, if statement has not been executed for any iteration.e.g. \n",
    "    when n1=6 , \n",
    "    FOR 6%2==0 , 6%3==0  only \n",
    "    #if will be executed   # it will return ''this is not a prime no.'' 2 times.\n",
    "    FOR 6%4!=0          \n",
    "    #else will be executed,  it will return ''this is a prime no.''\n",
    "    #but it won't return ''this is a prime no.'' On 6%5!=0 as there is no loop involved in else part for further iteration."
   ]
  },
  {
   "cell_type": "code",
   "execution_count": 8,
   "metadata": {},
   "outputs": [
    {
     "name": "stdout",
     "output_type": "stream",
     "text": [
      "enter a no. to check prime or not: 6\n",
      "this is not a prime no.\n",
      "this is not a prime no.\n",
      "this is a prime no.\n"
     ]
    }
   ],
   "source": [
    "n1=int(input(\"enter a no. to check prime or not: \"))\n",
    "if n1>1:\n",
    "    for i in range(2,n1):    #i=2 to n1-1                           \n",
    "        if n1%i==0:\n",
    "            print(\"this is not a prime no.\") \n",
    "            \n",
    "            \n",
    "    else:\n",
    "        print(\"this is a prime no.\")\n",
    "else:\n",
    "    print(\"Invalid choice\")"
   ]
  },
  {
   "cell_type": "code",
   "execution_count": 9,
   "metadata": {},
   "outputs": [
    {
     "name": "stdout",
     "output_type": "stream",
     "text": [
      "6\n"
     ]
    }
   ],
   "source": [
    "#to print sum of n natural nos.\n",
    "\n",
    "n=3\n",
    "s=0\n",
    "for i in range(1,n+1):\n",
    "    s=s+i\n",
    "print(s)"
   ]
  },
  {
   "cell_type": "code",
   "execution_count": 10,
   "metadata": {},
   "outputs": [
    {
     "name": "stdout",
     "output_type": "stream",
     "text": [
      "6\n"
     ]
    }
   ],
   "source": [
    "#to print factorial of n natural nos.\n",
    "n=3\n",
    "p=1\n",
    "for i in range(0,n):\n",
    "    p=p*(n-i)\n",
    "print(p)"
   ]
  },
  {
   "cell_type": "code",
   "execution_count": 11,
   "metadata": {},
   "outputs": [
    {
     "name": "stdout",
     "output_type": "stream",
     "text": [
      "1\n",
      "2\n",
      "3\n",
      "6\n"
     ]
    }
   ],
   "source": [
    "#to find factors of a given no.\n",
    "n=6\n",
    "for i in range(1,n+1):\n",
    "    if n%i==0:\n",
    "        print(i)"
   ]
  },
  {
   "cell_type": "code",
   "execution_count": 14,
   "metadata": {},
   "outputs": [
    {
     "name": "stdout",
     "output_type": "stream",
     "text": [
      "0\n",
      "1\n",
      "1\n",
      "2\n",
      "3\n",
      "5\n"
     ]
    }
   ],
   "source": [
    "#to print fabonacci series upto n given terms \n",
    "m=6  #let 6 terms we need \n",
    "n1=0\n",
    "n2=1\n",
    "\n",
    "if m==1:\n",
    "    print(n1)\n",
    "elif m>1:\n",
    "    i=0\n",
    "    print(n1)\n",
    "    print(n2)\n",
    "    while i<m-2:  # 2 has been substracted to maintain 6 terms in total along with n1 and n2 print value.\n",
    "        n3=0\n",
    "        n3=n1+n2 \n",
    "        print(n3)\n",
    "        n1=n2\n",
    "        n2=n3\n",
    "        \n",
    "        i=i+1\n",
    "else:\n",
    "    print(\"invalid choice \")"
   ]
  },
  {
   "cell_type": "code",
   "execution_count": null,
   "metadata": {},
   "outputs": [],
   "source": []
  }
 ],
 "metadata": {
  "kernelspec": {
   "display_name": "Python 3",
   "language": "python",
   "name": "python3"
  },
  "language_info": {
   "codemirror_mode": {
    "name": "ipython",
    "version": 3
   },
   "file_extension": ".py",
   "mimetype": "text/x-python",
   "name": "python",
   "nbconvert_exporter": "python",
   "pygments_lexer": "ipython3",
   "version": "3.8.5"
  }
 },
 "nbformat": 4,
 "nbformat_minor": 4
}
